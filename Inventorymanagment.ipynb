{
 "cells": [
  {
   "cell_type": "markdown",
   "metadata": {},
   "source": [
    "# Product Inventory managment system"
   ]
  },
  {
   "cell_type": "code",
   "execution_count": 2,
   "metadata": {},
   "outputs": [],
   "source": [
    "# module\n",
    "import json"
   ]
  },
  {
   "cell_type": "code",
   "execution_count": 3,
   "metadata": {},
   "outputs": [],
   "source": [
    "# products data\n",
    "data = { 1001 : {\"Name\":\"Munch\", \"Price\":20, \"Quantity\":50, \"Expiry Date\":\"02-07-2020\", \"Category\" : \"Chocolate\" },\n",
    "        1002 : {\"Name\":\"MilkyBar\", \"Price\":25, \"Quantity\":75, \"Expiry Date\":\"02-08-2020\", \"Category\" : \"Chocolate\" },\n",
    "        1003 : {\"Name\":\"KitKat\", \"Price\":30, \"Quantity\":34, \"Expiry Date\":\"02-09-2020\", \"Category\" : \"Chocolate\" },\n",
    "        1004 : {\"Name\":\"5 Star\", \"Price\":20, \"Quantity\":56, \"Expiry Date\":\"23-07-2020\", \"Category\" : \"Chocolate\" },\n",
    "        1005 : {\"Name\":\"DairyMilk\", \"Price\":90, \"Quantity\":90, \"Expiry Date\":\"31-07-2020\", \"Category\" : \"Chocolate\" },\n",
    "        1006 : {\"Name\":\"Galaxy\", \"Price\":120, \"Quantity\":40, \"Expiry Date\":\"12-07-2020\", \"Category\" : \"Chocolate\" },\n",
    "        1007 : {\"Name\":\"Wafers\", \"Price\":200, \"Quantity\":160, \"Expiry Date\":\"02-10-2020\", \"Category\" : \"Chocolate\" },\n",
    "        1008 : {\"Name\":\"ButterScotch\", \"Price\":80, \"Quantity\":100, \"Expiry Date\":\"02-11-2020\", \"Category\" : \"Chocolate\" },\n",
    "        1009 : {\"Name\":\"Kopiko\", \"Price\":2, \"Quantity\":900, \"Expiry Date\":\"02-12-2020\", \"Category\" : \"Chocolate\" },\n",
    "        1010 : {\"Name\":\"Eclairs\", \"Price\":2, \"Quantity\":200, \"Expiry Date\":\"02-07-2022\", \"Category\" : \"Chocolate\" },\n",
    "        \n",
    "        1011 : {\"Name\":\"Cones\", \"Price\":20, \"Quantity\":40, \"Expiry Date\":\"02-07-2023\", \"Category\" : \"Ice Cream\" },\n",
    "        1012 : {\"Name\":\"Chocobar\", \"Price\":30, \"Quantity\":50, \"Expiry Date\":\"01-07-2020\", \"Category\" : \"Ice Cream\" },\n",
    "        1013 : {\"Name\":\"Desert\", \"Price\":50, \"Quantity\":60, \"Expiry Date\":\"02-04-2020\", \"Category\" : \"Ice Cream\" },\n",
    "        1014 : {\"Name\":\"Gudbud\", \"Price\":80, \"Quantity\":20, \"Expiry Date\":\"02-06-2020\", \"Category\" : \"Ice Cream\" },\n",
    "        1015 : {\"Name\":\"Kulfi\", \"Price\":40, \"Quantity\":70, \"Expiry Date\":\"15-07-2020\", \"Category\" : \"Ice Cream\" },\n",
    "        \n",
    "        1016 : {\"Name\":\"Puff Pastry\", \"Price\":40, \"Quantity\":30, \"Expiry Date\":\"02-07-2019\", \"Category\" : \"Pastry\" },\n",
    "        1017 : {\"Name\":\"Chocolate Pastry\", \"Price\":60, \"Quantity\":70, \"Expiry Date\":\"02-09-2020\", \"Category\" : \"Pastry\" },\n",
    "        1018 : {\"Name\":\"Fruit Tarts\", \"Price\":80, \"Quantity\":20, \"Expiry Date\":\"02-07-2010\", \"Category\" : \"Pastry\" },\n",
    "        1019 : {\"Name\":\"Black Forest Pastry\", \"Price\":40, \"Quantity\":4, \"Expiry Date\":\"02-08-2020\", \"Category\" : \"Pastry\" },\n",
    "        1020 : {\"Name\":\"Pineapple Pastry\", \"Price\":60, \"Quantity\":8, \"Expiry Date\":\"12-07-2020\", \"Category\" : \"Pastry\" },\n",
    "        \n",
    "        1021 : {\"Name\":\"Cupcakes\", \"Price\":20, \"Quantity\":90, \"Expiry Date\":\"02-07-2021\", \"Category\" : \"Cup Cake\" },\n",
    "        1022 : {\"Name\":\"Muffins\", \"Price\":50, \"Quantity\":10, \"Expiry Date\":\"02-07-2020\", \"Category\" : \"Cup Cake\" },\n",
    "        1023 : {\"Name\":\"Chocolate Cupcakes\", \"Price\":78, \"Quantity\":12, \"Expiry Date\":\"02-04-2020\", \"Category\" : \"Cup Cake\" },\n",
    "        1024 : {\"Name\":\"Vanilla Cupcakes\", \"Price\":45, \"Quantity\":34, \"Expiry Date\":\"13-07-2020\", \"Category\" : \"Cup Cake\" },\n",
    "        1025 : {\"Name\":\"Blueberry cupcakes\", \"Price\":34, \"Quantity\":56, \"Expiry Date\":\"02-03-2020\", \"Category\" : \"Cup Cake\" },\n",
    "        \n",
    "        1026 : {\"Name\":\"Donut\", \"Price\":200, \"Quantity\":20, \"Expiry Date\":\"02-07-2010\", \"Category\" : \"Bakery Sweets\" },\n",
    "        1027 : {\"Name\":\"Macarons\", \"Price\":250, \"Quantity\":18, \"Expiry Date\":\"02-07-2018\", \"Category\" : \"Bakery Sweets\" },\n",
    "        1028 : {\"Name\":\"Pudding\", \"Price\":120, \"Quantity\":67, \"Expiry Date\":\"02-05-2020\", \"Category\" : \"Bakery Sweets\" },\n",
    "        1029 : {\"Name\":\"Waffle\", \"Price\":230, \"Quantity\":90, \"Expiry Date\":\"06-07-2020\", \"Category\" : \"Bakery Sweets\" },\n",
    "        1030 : {\"Name\":\"Caramel Custard\", \"Price\":90, \"Quantity\":56, \"Expiry Date\":\"02-10-2020\", \"Category\" : \"Bakery Sweets\" },\n",
    "        \n",
    "        1031 : {\"Name\":\"Black Forest\", \"Price\":200, \"Quantity\":10, \"Expiry Date\":\"03-07-2020\", \"Category\" : \"Cake\" },\n",
    "        1032 : {\"Name\":\"Blue Berry\", \"Price\":300, \"Quantity\":9, \"Expiry Date\":\"02-10-2020\", \"Category\" : \"Cake\" },\n",
    "        1033 : {\"Name\":\"Lavendar\", \"Price\":400, \"Quantity\":15, \"Expiry Date\":\"02-07-2020\", \"Category\" : \"Cake\" },\n",
    "        1034 : {\"Name\":\"Chocolate\", \"Price\":350, \"Quantity\":19, \"Expiry Date\":\"02-04-2020\", \"Category\" : \"Cake\" },\n",
    "        1035 : {\"Name\":\"Honey\", \"Price\":200, \"Quantity\":10, \"Expiry Date\":\"02-07-2021\", \"Category\" : \"Cake\" }\n",
    "}"
   ]
  },
  {
   "cell_type": "code",
   "execution_count": 4,
   "metadata": {},
   "outputs": [],
   "source": [
    "js = json.dumps(data)"
   ]
  },
  {
   "cell_type": "code",
   "execution_count": 5,
   "metadata": {},
   "outputs": [],
   "source": [
    "f = open(\"data.json\",'w')\n",
    "f.write(js)\n",
    "f.close()"
   ]
  },
  {
   "cell_type": "code",
   "execution_count": 6,
   "metadata": {},
   "outputs": [
    {
     "name": "stdout",
     "output_type": "stream",
     "text": [
      "1.Chocolate\n",
      "2.Ice Cream\n",
      "3.Pastry\n",
      "4.Cup Cake\n",
      "5.Bakery Sweets\n",
      "6.Cake\n",
      "Select the category : 2\n"
     ]
    }
   ],
   "source": [
    "# choosing category\n",
    "uc = int(input(\"1.Chocolate\\n2.Ice Cream\\n3.Pastry\\n4.Cup Cake\\n5.Bakery Sweets\\n6.Cake\\nSelect the category : \"))\n",
    "\n",
    "if(uc == 1):\n",
    "    u = 'Chocolate'\n",
    "elif(uc == 2):\n",
    "    u = 'Ice Cream'\n",
    "elif(uc == 3):\n",
    "    u = 'Pastry'\n",
    "elif(uc == 4):\n",
    "    u = 'Cup Cake'\n",
    "elif(uc == 5):\n",
    "    u = 'Bakery Sweets'\n",
    "elif(uc == 6):\n",
    "    u = 'Cake'\n",
    "else:\n",
    "    print(\"Choose between 1 to 6\\n\")"
   ]
  },
  {
   "cell_type": "code",
   "execution_count": 7,
   "metadata": {},
   "outputs": [
    {
     "name": "stdout",
     "output_type": "stream",
     "text": [
      "The available products are : \n",
      "\n",
      "Product Id:  1011\n",
      "Product Name:  Cones\n",
      "Product Price:  20\n",
      "----------------------------\n",
      "Product Id:  1012\n",
      "Product Name:  Chocobar\n",
      "Product Price:  30\n",
      "----------------------------\n",
      "Product Id:  1013\n",
      "Product Name:  Desert\n",
      "Product Price:  50\n",
      "----------------------------\n",
      "Product Id:  1014\n",
      "Product Name:  Gudbud\n",
      "Product Price:  80\n",
      "----------------------------\n",
      "Product Id:  1015\n",
      "Product Name:  Kulfi\n",
      "Product Price:  40\n",
      "----------------------------\n"
     ]
    }
   ],
   "source": [
    "# printing available products\n",
    "print(\"The available products are : \\n\")\n",
    "\n",
    "for i in data:\n",
    "    if(data[i]['Category']==u):\n",
    "        print(\"Product Id: \",i)\n",
    "        print(\"Product Name: \",data[i]['Name'])\n",
    "        print(\"Product Price: \",data[i]['Price'])\n",
    "        print(\"----------------------------\")    "
   ]
  },
  {
   "cell_type": "code",
   "execution_count": 8,
   "metadata": {},
   "outputs": [
    {
     "name": "stdout",
     "output_type": "stream",
     "text": [
      "Enter product id which you want to buy : 1011\n",
      "Enter Quantity : 23\n"
     ]
    }
   ],
   "source": [
    "#taking input from user \n",
    "\n",
    "user_inid = int(input(\"Enter product id which you want to buy : \"))\n",
    "user_qua = int(input(\"Enter Quantity : \"))"
   ]
  },
  {
   "cell_type": "code",
   "execution_count": 9,
   "metadata": {},
   "outputs": [],
   "source": [
    "#generating bill\n",
    "\n",
    "def bill(uid,uq):\n",
    "    if(uq >= data[uid]['Quantity']):\n",
    "        data[uid]['Quantity'] = 0\n",
    "    else:\n",
    "        data[uid]['Quantity'] = data[uid]['Quantity'] - uq\n",
    "    print(\"\\n\\n.........Welcome...........\")\n",
    "    print(\"***************************\")\n",
    "    print(\"Product Id: \"+str(uid))\n",
    "    print(\"Product Name: \"+data[uid]['Name'])\n",
    "    print(\"Product Price: \"+str(data[uid]['Price']))\n",
    "    print(\"Product Category: \"+data[uid]['Expiry Date'])\n",
    "    print(\"Product Expiry Date: \"+data[uid]['Category'])\n",
    "    print(\"***************************\")\n",
    "    print(\"Total Amount: \"+str(data[uid]['Price']*uq))\n",
    "    print(\"Thank You! Visit Again\")"
   ]
  },
  {
   "cell_type": "code",
   "execution_count": 10,
   "metadata": {},
   "outputs": [
    {
     "name": "stdout",
     "output_type": "stream",
     "text": [
      "Product Id:  1011\n",
      "Product Name:  Cones\n",
      "Product Price:  20\n",
      "Available Quantity:  40\n",
      "Product Category:  02-07-2023\n",
      "Product Expiry Date:  Ice Cream\n",
      "----------------------------\n",
      "\n",
      "\n",
      ".........Welcome...........\n",
      "***************************\n",
      "Product Id: 1011\n",
      "Product Name: Cones\n",
      "Product Price: 20\n",
      "Product Category: 02-07-2023\n",
      "Product Expiry Date: Ice Cream\n",
      "***************************\n",
      "Total Amount: 460\n",
      "Thank You! Visit Again\n"
     ]
    }
   ],
   "source": [
    "#checking product availability\n",
    "\n",
    "if(user_inid in data):\n",
    "    print(\"Product Id: \",user_inid)\n",
    "    print(\"Product Name: \",data[user_inid]['Name'])\n",
    "    print(\"Product Price: \",data[user_inid]['Price'])\n",
    "    print(\"Available Quantity: \",data[user_inid]['Quantity'])\n",
    "    print(\"Product Category: \",data[user_inid]['Expiry Date'])\n",
    "    print(\"Product Expiry Date: \",data[user_inid]['Category'])\n",
    "    print(\"----------------------------\")\n",
    "else:\n",
    "    print(\"Invalid Product ID\\n\")\n",
    "    \n",
    "    \n",
    "if(user_qua > data[user_inid]['Quantity']):\n",
    "    if(data[user_inid]['Quantity'] > 0):\n",
    "        print(\"Sorry! We don't have that much. But we have \"+str(data[user_inid]['Quantity'])+\".\\nWould you like to buy?\")\n",
    "        yn = input(\"Please Enter y for Yes/ n for No : \")\n",
    "        if(yn == 'y' or yn == 'Y'):\n",
    "            bill(user_inid,user_qua)\n",
    "        else:\n",
    "            print(\"Thank you for your Interest. We will let you know once the product is available.\")\n",
    "    else:\n",
    "        print(\"Sorry to say that, right now we are out of stock! We will let you know once the product is available.\")\n",
    "else:\n",
    "    bill(user_inid,user_qua)"
   ]
  },
  {
   "cell_type": "code",
   "execution_count": 12,
   "metadata": {},
   "outputs": [],
   "source": [
    "f = open(\"data.json\",\"r\")\n",
    "t = f.read()\n",
    "f.close()"
   ]
  },
  {
   "cell_type": "code",
   "execution_count": 13,
   "metadata": {},
   "outputs": [
    {
     "data": {
      "text/plain": [
       "'{\"1001\": {\"Name\": \"Munch\", \"Price\": 20, \"Quantity\": 50, \"Expiry Date\": \"02-07-2020\", \"Category\": \"Chocolate\"}, \"1002\": {\"Name\": \"MilkyBar\", \"Price\": 25, \"Quantity\": 75, \"Expiry Date\": \"02-08-2020\", \"Category\": \"Chocolate\"}, \"1003\": {\"Name\": \"KitKat\", \"Price\": 30, \"Quantity\": 34, \"Expiry Date\": \"02-09-2020\", \"Category\": \"Chocolate\"}, \"1004\": {\"Name\": \"5 Star\", \"Price\": 20, \"Quantity\": 56, \"Expiry Date\": \"23-07-2020\", \"Category\": \"Chocolate\"}, \"1005\": {\"Name\": \"DairyMilk\", \"Price\": 90, \"Quantity\": 90, \"Expiry Date\": \"31-07-2020\", \"Category\": \"Chocolate\"}, \"1006\": {\"Name\": \"Galaxy\", \"Price\": 120, \"Quantity\": 40, \"Expiry Date\": \"12-07-2020\", \"Category\": \"Chocolate\"}, \"1007\": {\"Name\": \"Wafers\", \"Price\": 200, \"Quantity\": 160, \"Expiry Date\": \"02-10-2020\", \"Category\": \"Chocolate\"}, \"1008\": {\"Name\": \"ButterScotch\", \"Price\": 80, \"Quantity\": 100, \"Expiry Date\": \"02-11-2020\", \"Category\": \"Chocolate\"}, \"1009\": {\"Name\": \"Kopiko\", \"Price\": 2, \"Quantity\": 900, \"Expiry Date\": \"02-12-2020\", \"Category\": \"Chocolate\"}, \"1010\": {\"Name\": \"Eclairs\", \"Price\": 2, \"Quantity\": 200, \"Expiry Date\": \"02-07-2022\", \"Category\": \"Chocolate\"}, \"1011\": {\"Name\": \"Cones\", \"Price\": 20, \"Quantity\": 40, \"Expiry Date\": \"02-07-2023\", \"Category\": \"Ice Cream\"}, \"1012\": {\"Name\": \"Chocobar\", \"Price\": 30, \"Quantity\": 50, \"Expiry Date\": \"01-07-2020\", \"Category\": \"Ice Cream\"}, \"1013\": {\"Name\": \"Desert\", \"Price\": 50, \"Quantity\": 60, \"Expiry Date\": \"02-04-2020\", \"Category\": \"Ice Cream\"}, \"1014\": {\"Name\": \"Gudbud\", \"Price\": 80, \"Quantity\": 20, \"Expiry Date\": \"02-06-2020\", \"Category\": \"Ice Cream\"}, \"1015\": {\"Name\": \"Kulfi\", \"Price\": 40, \"Quantity\": 70, \"Expiry Date\": \"15-07-2020\", \"Category\": \"Ice Cream\"}, \"1016\": {\"Name\": \"Puff Pastry\", \"Price\": 40, \"Quantity\": 30, \"Expiry Date\": \"02-07-2019\", \"Category\": \"Pastry\"}, \"1017\": {\"Name\": \"Chocolate Pastry\", \"Price\": 60, \"Quantity\": 70, \"Expiry Date\": \"02-09-2020\", \"Category\": \"Pastry\"}, \"1018\": {\"Name\": \"Fruit Tarts\", \"Price\": 80, \"Quantity\": 20, \"Expiry Date\": \"02-07-2010\", \"Category\": \"Pastry\"}, \"1019\": {\"Name\": \"Black Forest Pastry\", \"Price\": 40, \"Quantity\": 4, \"Expiry Date\": \"02-08-2020\", \"Category\": \"Pastry\"}, \"1020\": {\"Name\": \"Pineapple Pastry\", \"Price\": 60, \"Quantity\": 8, \"Expiry Date\": \"12-07-2020\", \"Category\": \"Pastry\"}, \"1021\": {\"Name\": \"Cupcakes\", \"Price\": 20, \"Quantity\": 90, \"Expiry Date\": \"02-07-2021\", \"Category\": \"Cup Cake\"}, \"1022\": {\"Name\": \"Muffins\", \"Price\": 50, \"Quantity\": 10, \"Expiry Date\": \"02-07-2020\", \"Category\": \"Cup Cake\"}, \"1023\": {\"Name\": \"Chocolate Cupcakes\", \"Price\": 78, \"Quantity\": 12, \"Expiry Date\": \"02-04-2020\", \"Category\": \"Cup Cake\"}, \"1024\": {\"Name\": \"Vanilla Cupcakes\", \"Price\": 45, \"Quantity\": 34, \"Expiry Date\": \"13-07-2020\", \"Category\": \"Cup Cake\"}, \"1025\": {\"Name\": \"Blueberry cupcakes\", \"Price\": 34, \"Quantity\": 56, \"Expiry Date\": \"02-03-2020\", \"Category\": \"Cup Cake\"}, \"1026\": {\"Name\": \"Donut\", \"Price\": 200, \"Quantity\": 20, \"Expiry Date\": \"02-07-2010\", \"Category\": \"Bakery Sweets\"}, \"1027\": {\"Name\": \"Macarons\", \"Price\": 250, \"Quantity\": 18, \"Expiry Date\": \"02-07-2018\", \"Category\": \"Bakery Sweets\"}, \"1028\": {\"Name\": \"Pudding\", \"Price\": 120, \"Quantity\": 67, \"Expiry Date\": \"02-05-2020\", \"Category\": \"Bakery Sweets\"}, \"1029\": {\"Name\": \"Waffle\", \"Price\": 230, \"Quantity\": 90, \"Expiry Date\": \"06-07-2020\", \"Category\": \"Bakery Sweets\"}, \"1030\": {\"Name\": \"Caramel Custard\", \"Price\": 90, \"Quantity\": 56, \"Expiry Date\": \"02-10-2020\", \"Category\": \"Bakery Sweets\"}, \"1031\": {\"Name\": \"Black Forest\", \"Price\": 200, \"Quantity\": 10, \"Expiry Date\": \"03-07-2020\", \"Category\": \"Cake\"}, \"1032\": {\"Name\": \"Blue Berry\", \"Price\": 300, \"Quantity\": 9, \"Expiry Date\": \"02-10-2020\", \"Category\": \"Cake\"}, \"1033\": {\"Name\": \"Lavendar\", \"Price\": 400, \"Quantity\": 15, \"Expiry Date\": \"02-07-2020\", \"Category\": \"Cake\"}, \"1034\": {\"Name\": \"Chocolate\", \"Price\": 350, \"Quantity\": 19, \"Expiry Date\": \"02-04-2020\", \"Category\": \"Cake\"}, \"1035\": {\"Name\": \"Honey\", \"Price\": 200, \"Quantity\": 10, \"Expiry Date\": \"02-07-2021\", \"Category\": \"Cake\"}}'"
      ]
     },
     "execution_count": 13,
     "metadata": {},
     "output_type": "execute_result"
    }
   ],
   "source": [
    "t"
   ]
  },
  {
   "cell_type": "code",
   "execution_count": 14,
   "metadata": {},
   "outputs": [],
   "source": [
    "r = json.loads(t)"
   ]
  },
  {
   "cell_type": "code",
   "execution_count": 15,
   "metadata": {},
   "outputs": [
    {
     "data": {
      "text/plain": [
       "{'1001': {'Name': 'Munch',\n",
       "  'Price': 20,\n",
       "  'Quantity': 50,\n",
       "  'Expiry Date': '02-07-2020',\n",
       "  'Category': 'Chocolate'},\n",
       " '1002': {'Name': 'MilkyBar',\n",
       "  'Price': 25,\n",
       "  'Quantity': 75,\n",
       "  'Expiry Date': '02-08-2020',\n",
       "  'Category': 'Chocolate'},\n",
       " '1003': {'Name': 'KitKat',\n",
       "  'Price': 30,\n",
       "  'Quantity': 34,\n",
       "  'Expiry Date': '02-09-2020',\n",
       "  'Category': 'Chocolate'},\n",
       " '1004': {'Name': '5 Star',\n",
       "  'Price': 20,\n",
       "  'Quantity': 56,\n",
       "  'Expiry Date': '23-07-2020',\n",
       "  'Category': 'Chocolate'},\n",
       " '1005': {'Name': 'DairyMilk',\n",
       "  'Price': 90,\n",
       "  'Quantity': 90,\n",
       "  'Expiry Date': '31-07-2020',\n",
       "  'Category': 'Chocolate'},\n",
       " '1006': {'Name': 'Galaxy',\n",
       "  'Price': 120,\n",
       "  'Quantity': 40,\n",
       "  'Expiry Date': '12-07-2020',\n",
       "  'Category': 'Chocolate'},\n",
       " '1007': {'Name': 'Wafers',\n",
       "  'Price': 200,\n",
       "  'Quantity': 160,\n",
       "  'Expiry Date': '02-10-2020',\n",
       "  'Category': 'Chocolate'},\n",
       " '1008': {'Name': 'ButterScotch',\n",
       "  'Price': 80,\n",
       "  'Quantity': 100,\n",
       "  'Expiry Date': '02-11-2020',\n",
       "  'Category': 'Chocolate'},\n",
       " '1009': {'Name': 'Kopiko',\n",
       "  'Price': 2,\n",
       "  'Quantity': 900,\n",
       "  'Expiry Date': '02-12-2020',\n",
       "  'Category': 'Chocolate'},\n",
       " '1010': {'Name': 'Eclairs',\n",
       "  'Price': 2,\n",
       "  'Quantity': 200,\n",
       "  'Expiry Date': '02-07-2022',\n",
       "  'Category': 'Chocolate'},\n",
       " '1011': {'Name': 'Cones',\n",
       "  'Price': 20,\n",
       "  'Quantity': 40,\n",
       "  'Expiry Date': '02-07-2023',\n",
       "  'Category': 'Ice Cream'},\n",
       " '1012': {'Name': 'Chocobar',\n",
       "  'Price': 30,\n",
       "  'Quantity': 50,\n",
       "  'Expiry Date': '01-07-2020',\n",
       "  'Category': 'Ice Cream'},\n",
       " '1013': {'Name': 'Desert',\n",
       "  'Price': 50,\n",
       "  'Quantity': 60,\n",
       "  'Expiry Date': '02-04-2020',\n",
       "  'Category': 'Ice Cream'},\n",
       " '1014': {'Name': 'Gudbud',\n",
       "  'Price': 80,\n",
       "  'Quantity': 20,\n",
       "  'Expiry Date': '02-06-2020',\n",
       "  'Category': 'Ice Cream'},\n",
       " '1015': {'Name': 'Kulfi',\n",
       "  'Price': 40,\n",
       "  'Quantity': 70,\n",
       "  'Expiry Date': '15-07-2020',\n",
       "  'Category': 'Ice Cream'},\n",
       " '1016': {'Name': 'Puff Pastry',\n",
       "  'Price': 40,\n",
       "  'Quantity': 30,\n",
       "  'Expiry Date': '02-07-2019',\n",
       "  'Category': 'Pastry'},\n",
       " '1017': {'Name': 'Chocolate Pastry',\n",
       "  'Price': 60,\n",
       "  'Quantity': 70,\n",
       "  'Expiry Date': '02-09-2020',\n",
       "  'Category': 'Pastry'},\n",
       " '1018': {'Name': 'Fruit Tarts',\n",
       "  'Price': 80,\n",
       "  'Quantity': 20,\n",
       "  'Expiry Date': '02-07-2010',\n",
       "  'Category': 'Pastry'},\n",
       " '1019': {'Name': 'Black Forest Pastry',\n",
       "  'Price': 40,\n",
       "  'Quantity': 4,\n",
       "  'Expiry Date': '02-08-2020',\n",
       "  'Category': 'Pastry'},\n",
       " '1020': {'Name': 'Pineapple Pastry',\n",
       "  'Price': 60,\n",
       "  'Quantity': 8,\n",
       "  'Expiry Date': '12-07-2020',\n",
       "  'Category': 'Pastry'},\n",
       " '1021': {'Name': 'Cupcakes',\n",
       "  'Price': 20,\n",
       "  'Quantity': 90,\n",
       "  'Expiry Date': '02-07-2021',\n",
       "  'Category': 'Cup Cake'},\n",
       " '1022': {'Name': 'Muffins',\n",
       "  'Price': 50,\n",
       "  'Quantity': 10,\n",
       "  'Expiry Date': '02-07-2020',\n",
       "  'Category': 'Cup Cake'},\n",
       " '1023': {'Name': 'Chocolate Cupcakes',\n",
       "  'Price': 78,\n",
       "  'Quantity': 12,\n",
       "  'Expiry Date': '02-04-2020',\n",
       "  'Category': 'Cup Cake'},\n",
       " '1024': {'Name': 'Vanilla Cupcakes',\n",
       "  'Price': 45,\n",
       "  'Quantity': 34,\n",
       "  'Expiry Date': '13-07-2020',\n",
       "  'Category': 'Cup Cake'},\n",
       " '1025': {'Name': 'Blueberry cupcakes',\n",
       "  'Price': 34,\n",
       "  'Quantity': 56,\n",
       "  'Expiry Date': '02-03-2020',\n",
       "  'Category': 'Cup Cake'},\n",
       " '1026': {'Name': 'Donut',\n",
       "  'Price': 200,\n",
       "  'Quantity': 20,\n",
       "  'Expiry Date': '02-07-2010',\n",
       "  'Category': 'Bakery Sweets'},\n",
       " '1027': {'Name': 'Macarons',\n",
       "  'Price': 250,\n",
       "  'Quantity': 18,\n",
       "  'Expiry Date': '02-07-2018',\n",
       "  'Category': 'Bakery Sweets'},\n",
       " '1028': {'Name': 'Pudding',\n",
       "  'Price': 120,\n",
       "  'Quantity': 67,\n",
       "  'Expiry Date': '02-05-2020',\n",
       "  'Category': 'Bakery Sweets'},\n",
       " '1029': {'Name': 'Waffle',\n",
       "  'Price': 230,\n",
       "  'Quantity': 90,\n",
       "  'Expiry Date': '06-07-2020',\n",
       "  'Category': 'Bakery Sweets'},\n",
       " '1030': {'Name': 'Caramel Custard',\n",
       "  'Price': 90,\n",
       "  'Quantity': 56,\n",
       "  'Expiry Date': '02-10-2020',\n",
       "  'Category': 'Bakery Sweets'},\n",
       " '1031': {'Name': 'Black Forest',\n",
       "  'Price': 200,\n",
       "  'Quantity': 10,\n",
       "  'Expiry Date': '03-07-2020',\n",
       "  'Category': 'Cake'},\n",
       " '1032': {'Name': 'Blue Berry',\n",
       "  'Price': 300,\n",
       "  'Quantity': 9,\n",
       "  'Expiry Date': '02-10-2020',\n",
       "  'Category': 'Cake'},\n",
       " '1033': {'Name': 'Lavendar',\n",
       "  'Price': 400,\n",
       "  'Quantity': 15,\n",
       "  'Expiry Date': '02-07-2020',\n",
       "  'Category': 'Cake'},\n",
       " '1034': {'Name': 'Chocolate',\n",
       "  'Price': 350,\n",
       "  'Quantity': 19,\n",
       "  'Expiry Date': '02-04-2020',\n",
       "  'Category': 'Cake'},\n",
       " '1035': {'Name': 'Honey',\n",
       "  'Price': 200,\n",
       "  'Quantity': 10,\n",
       "  'Expiry Date': '02-07-2021',\n",
       "  'Category': 'Cake'}}"
      ]
     },
     "execution_count": 15,
     "metadata": {},
     "output_type": "execute_result"
    }
   ],
   "source": [
    "r"
   ]
  },
  {
   "cell_type": "code",
   "execution_count": null,
   "metadata": {},
   "outputs": [],
   "source": []
  }
 ],
 "metadata": {
  "kernelspec": {
   "display_name": "Python 3",
   "language": "python",
   "name": "python3"
  },
  "language_info": {
   "codemirror_mode": {
    "name": "ipython",
    "version": 3
   },
   "file_extension": ".py",
   "mimetype": "text/x-python",
   "name": "python",
   "nbconvert_exporter": "python",
   "pygments_lexer": "ipython3",
   "version": "3.8.3"
  }
 },
 "nbformat": 4,
 "nbformat_minor": 4
}
